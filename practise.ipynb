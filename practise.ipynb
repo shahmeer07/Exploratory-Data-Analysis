{
 "cells": [
  {
   "cell_type": "code",
   "execution_count": null,
   "id": "4d94005d-7a77-4973-a2b7-b3ad651c6bb3",
   "metadata": {},
   "outputs": [],
   "source": [
    "import pandas as pd\n",
    "import numpy as np \n",
    "import seaborn as sns\n",
    "import matplot.plt as pyplot\n",
    "%matplot inline \n"
   ]
  },
  {
   "cell_type": "code",
   "execution_count": null,
   "id": "b4ff0469-970f-4f87-bd15-e00e4bfb6b41",
   "metadata": {},
   "outputs": [],
   "source": [
    "#adding the csv file \n",
    "df = pd.read_csv()"
   ]
  }
 ],
 "metadata": {
  "kernelspec": {
   "display_name": "Python 3 (ipykernel)",
   "language": "python",
   "name": "python3"
  },
  "language_info": {
   "codemirror_mode": {
    "name": "ipython",
    "version": 3
   },
   "file_extension": ".py",
   "mimetype": "text/x-python",
   "name": "python",
   "nbconvert_exporter": "python",
   "pygments_lexer": "ipython3",
   "version": "3.10.11"
  }
 },
 "nbformat": 4,
 "nbformat_minor": 5
}
